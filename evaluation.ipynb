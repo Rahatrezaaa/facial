{
  "nbformat": 4,
  "nbformat_minor": 0,
  "metadata": {
    "colab": {
      "name": "evaluation.ipynb",
      "provenance": [],
      "collapsed_sections": []
    },
    "kernelspec": {
      "name": "python3",
      "display_name": "Python 3"
    },
    "accelerator": "GPU"
  },
  "cells": [
    {
      "cell_type": "code",
      "metadata": {
        "id": "mHuYCv3TcUIx",
        "outputId": "1b3e5b4d-3113-443c-f08c-cf661c70ac3f",
        "colab": {
          "base_uri": "https://localhost:8080/",
          "height": 128
        }
      },
      "source": [
        "from google.colab import drive\n",
        "drive.mount('/content/drive')"
      ],
      "execution_count": null,
      "outputs": [
        {
          "output_type": "stream",
          "text": [
            "Go to this URL in a browser: https://accounts.google.com/o/oauth2/auth?client_id=947318989803-6bn6qk8qdgf4n4g3pfee6491hc0brc4i.apps.googleusercontent.com&redirect_uri=urn%3aietf%3awg%3aoauth%3a2.0%3aoob&scope=email%20https%3a%2f%2fwww.googleapis.com%2fauth%2fdocs.test%20https%3a%2f%2fwww.googleapis.com%2fauth%2fdrive%20https%3a%2f%2fwww.googleapis.com%2fauth%2fdrive.photos.readonly%20https%3a%2f%2fwww.googleapis.com%2fauth%2fpeopleapi.readonly&response_type=code\n",
            "\n",
            "Enter your authorization code:\n",
            "··········\n",
            "Mounted at /content/drive\n"
          ],
          "name": "stdout"
        }
      ]
    },
    {
      "cell_type": "code",
      "metadata": {
        "id": "_ZLfrqdicjjU",
        "outputId": "1d14fe92-737f-4fe0-ec6b-5a4e32c6e492",
        "colab": {
          "base_uri": "https://localhost:8080/",
          "height": 35
        }
      },
      "source": [
        "cd drive/My Drive/P1_Facial_Keypoints"
      ],
      "execution_count": null,
      "outputs": [
        {
          "output_type": "stream",
          "text": [
            "/content/drive/My Drive/P1_Facial_Keypoints\n"
          ],
          "name": "stdout"
        }
      ]
    },
    {
      "cell_type": "code",
      "metadata": {
        "id": "W5WrBPrgdDmV"
      },
      "source": [
        "import pandas as pd\n",
        "import numpy as np\n",
        "import matplotlib.image as mpimg\n",
        "import matplotlib.pyplot as plt\n",
        "\n",
        "import os\n",
        "import cv2"
      ],
      "execution_count": null,
      "outputs": []
    },
    {
      "cell_type": "code",
      "metadata": {
        "id": "RiYv-kZ6dgNT"
      },
      "source": [
        "test_df=pd.read_csv(\"data/test_frames_keypoints.csv\")\n",
        "train_df=pd.read_csv(\"data/training_frames_keypoints.csv\")"
      ],
      "execution_count": null,
      "outputs": []
    },
    {
      "cell_type": "code",
      "metadata": {
        "id": "rKQj7JFfg5wM",
        "outputId": "9b71d6e0-41b7-4305-f370-513066b1099c",
        "colab": {
          "base_uri": "https://localhost:8080/",
          "height": 247
        }
      },
      "source": [
        "test_df.head()"
      ],
      "execution_count": null,
      "outputs": [
        {
          "output_type": "execute_result",
          "data": {
            "text/html": [
              "<div>\n",
              "<style scoped>\n",
              "    .dataframe tbody tr th:only-of-type {\n",
              "        vertical-align: middle;\n",
              "    }\n",
              "\n",
              "    .dataframe tbody tr th {\n",
              "        vertical-align: top;\n",
              "    }\n",
              "\n",
              "    .dataframe thead th {\n",
              "        text-align: right;\n",
              "    }\n",
              "</style>\n",
              "<table border=\"1\" class=\"dataframe\">\n",
              "  <thead>\n",
              "    <tr style=\"text-align: right;\">\n",
              "      <th></th>\n",
              "      <th>Unnamed: 0</th>\n",
              "      <th>0</th>\n",
              "      <th>1</th>\n",
              "      <th>2</th>\n",
              "      <th>3</th>\n",
              "      <th>4</th>\n",
              "      <th>5</th>\n",
              "      <th>6</th>\n",
              "      <th>7</th>\n",
              "      <th>8</th>\n",
              "      <th>9</th>\n",
              "      <th>10</th>\n",
              "      <th>11</th>\n",
              "      <th>12</th>\n",
              "      <th>13</th>\n",
              "      <th>14</th>\n",
              "      <th>15</th>\n",
              "      <th>16</th>\n",
              "      <th>17</th>\n",
              "      <th>18</th>\n",
              "      <th>19</th>\n",
              "      <th>20</th>\n",
              "      <th>21</th>\n",
              "      <th>22</th>\n",
              "      <th>23</th>\n",
              "      <th>24</th>\n",
              "      <th>25</th>\n",
              "      <th>26</th>\n",
              "      <th>27</th>\n",
              "      <th>28</th>\n",
              "      <th>29</th>\n",
              "      <th>30</th>\n",
              "      <th>31</th>\n",
              "      <th>32</th>\n",
              "      <th>33</th>\n",
              "      <th>34</th>\n",
              "      <th>35</th>\n",
              "      <th>36</th>\n",
              "      <th>37</th>\n",
              "      <th>38</th>\n",
              "      <th>...</th>\n",
              "      <th>96</th>\n",
              "      <th>97</th>\n",
              "      <th>98</th>\n",
              "      <th>99</th>\n",
              "      <th>100</th>\n",
              "      <th>101</th>\n",
              "      <th>102</th>\n",
              "      <th>103</th>\n",
              "      <th>104</th>\n",
              "      <th>105</th>\n",
              "      <th>106</th>\n",
              "      <th>107</th>\n",
              "      <th>108</th>\n",
              "      <th>109</th>\n",
              "      <th>110</th>\n",
              "      <th>111</th>\n",
              "      <th>112</th>\n",
              "      <th>113</th>\n",
              "      <th>114</th>\n",
              "      <th>115</th>\n",
              "      <th>116</th>\n",
              "      <th>117</th>\n",
              "      <th>118</th>\n",
              "      <th>119</th>\n",
              "      <th>120</th>\n",
              "      <th>121</th>\n",
              "      <th>122</th>\n",
              "      <th>123</th>\n",
              "      <th>124</th>\n",
              "      <th>125</th>\n",
              "      <th>126</th>\n",
              "      <th>127</th>\n",
              "      <th>128</th>\n",
              "      <th>129</th>\n",
              "      <th>130</th>\n",
              "      <th>131</th>\n",
              "      <th>132</th>\n",
              "      <th>133</th>\n",
              "      <th>134</th>\n",
              "      <th>135</th>\n",
              "    </tr>\n",
              "  </thead>\n",
              "  <tbody>\n",
              "    <tr>\n",
              "      <th>0</th>\n",
              "      <td>James_Wolfensohn_00.jpg</td>\n",
              "      <td>25.0</td>\n",
              "      <td>44.0</td>\n",
              "      <td>25.0</td>\n",
              "      <td>49.0</td>\n",
              "      <td>25.0</td>\n",
              "      <td>54.0</td>\n",
              "      <td>25.0</td>\n",
              "      <td>59.0</td>\n",
              "      <td>26.0</td>\n",
              "      <td>64.0</td>\n",
              "      <td>27.0</td>\n",
              "      <td>67.0</td>\n",
              "      <td>30.0</td>\n",
              "      <td>71.0</td>\n",
              "      <td>33.0</td>\n",
              "      <td>75.0</td>\n",
              "      <td>39.0</td>\n",
              "      <td>76.0</td>\n",
              "      <td>46.0</td>\n",
              "      <td>76.0</td>\n",
              "      <td>52.0</td>\n",
              "      <td>74.0</td>\n",
              "      <td>56.0</td>\n",
              "      <td>72.0</td>\n",
              "      <td>59.0</td>\n",
              "      <td>67.0</td>\n",
              "      <td>62.0</td>\n",
              "      <td>62.0</td>\n",
              "      <td>63.0</td>\n",
              "      <td>57.0</td>\n",
              "      <td>64.0</td>\n",
              "      <td>52.0</td>\n",
              "      <td>65.0</td>\n",
              "      <td>47.0</td>\n",
              "      <td>27.0</td>\n",
              "      <td>40.0</td>\n",
              "      <td>30.0</td>\n",
              "      <td>39.0</td>\n",
              "      <td>32.0</td>\n",
              "      <td>...</td>\n",
              "      <td>33.0</td>\n",
              "      <td>65.0</td>\n",
              "      <td>36.0</td>\n",
              "      <td>64.0</td>\n",
              "      <td>38.0</td>\n",
              "      <td>64.0</td>\n",
              "      <td>39.0</td>\n",
              "      <td>65.0</td>\n",
              "      <td>41.0</td>\n",
              "      <td>64.0</td>\n",
              "      <td>44.0</td>\n",
              "      <td>65.0</td>\n",
              "      <td>47.0</td>\n",
              "      <td>65.0</td>\n",
              "      <td>44.0</td>\n",
              "      <td>66.0</td>\n",
              "      <td>42.0</td>\n",
              "      <td>68.0</td>\n",
              "      <td>39.0</td>\n",
              "      <td>68.0</td>\n",
              "      <td>37.0</td>\n",
              "      <td>68.0</td>\n",
              "      <td>36.0</td>\n",
              "      <td>66.0</td>\n",
              "      <td>33.0</td>\n",
              "      <td>65.0</td>\n",
              "      <td>38.0</td>\n",
              "      <td>65.0</td>\n",
              "      <td>39.0</td>\n",
              "      <td>65.0</td>\n",
              "      <td>42.0</td>\n",
              "      <td>65.0</td>\n",
              "      <td>46.0</td>\n",
              "      <td>65.0</td>\n",
              "      <td>42.0</td>\n",
              "      <td>65.0</td>\n",
              "      <td>39.0</td>\n",
              "      <td>65.0</td>\n",
              "      <td>38.0</td>\n",
              "      <td>65.0</td>\n",
              "    </tr>\n",
              "    <tr>\n",
              "      <th>1</th>\n",
              "      <td>Valerie_Harper_30.jpg</td>\n",
              "      <td>55.0</td>\n",
              "      <td>62.0</td>\n",
              "      <td>52.0</td>\n",
              "      <td>72.0</td>\n",
              "      <td>52.0</td>\n",
              "      <td>83.0</td>\n",
              "      <td>55.0</td>\n",
              "      <td>90.0</td>\n",
              "      <td>55.0</td>\n",
              "      <td>101.0</td>\n",
              "      <td>57.0</td>\n",
              "      <td>108.0</td>\n",
              "      <td>60.0</td>\n",
              "      <td>114.0</td>\n",
              "      <td>65.0</td>\n",
              "      <td>121.0</td>\n",
              "      <td>75.0</td>\n",
              "      <td>127.0</td>\n",
              "      <td>88.0</td>\n",
              "      <td>124.0</td>\n",
              "      <td>98.0</td>\n",
              "      <td>122.0</td>\n",
              "      <td>106.0</td>\n",
              "      <td>117.0</td>\n",
              "      <td>114.0</td>\n",
              "      <td>112.0</td>\n",
              "      <td>122.0</td>\n",
              "      <td>102.0</td>\n",
              "      <td>124.0</td>\n",
              "      <td>94.0</td>\n",
              "      <td>129.0</td>\n",
              "      <td>87.0</td>\n",
              "      <td>129.0</td>\n",
              "      <td>76.0</td>\n",
              "      <td>57.0</td>\n",
              "      <td>52.0</td>\n",
              "      <td>60.0</td>\n",
              "      <td>50.0</td>\n",
              "      <td>65.0</td>\n",
              "      <td>...</td>\n",
              "      <td>65.0</td>\n",
              "      <td>101.0</td>\n",
              "      <td>68.0</td>\n",
              "      <td>101.0</td>\n",
              "      <td>70.0</td>\n",
              "      <td>98.0</td>\n",
              "      <td>75.0</td>\n",
              "      <td>101.0</td>\n",
              "      <td>78.0</td>\n",
              "      <td>101.0</td>\n",
              "      <td>83.0</td>\n",
              "      <td>104.0</td>\n",
              "      <td>88.0</td>\n",
              "      <td>106.0</td>\n",
              "      <td>83.0</td>\n",
              "      <td>109.0</td>\n",
              "      <td>78.0</td>\n",
              "      <td>109.0</td>\n",
              "      <td>73.0</td>\n",
              "      <td>109.0</td>\n",
              "      <td>70.0</td>\n",
              "      <td>109.0</td>\n",
              "      <td>68.0</td>\n",
              "      <td>106.0</td>\n",
              "      <td>65.0</td>\n",
              "      <td>101.0</td>\n",
              "      <td>70.0</td>\n",
              "      <td>104.0</td>\n",
              "      <td>75.0</td>\n",
              "      <td>104.0</td>\n",
              "      <td>78.0</td>\n",
              "      <td>104.0</td>\n",
              "      <td>88.0</td>\n",
              "      <td>106.0</td>\n",
              "      <td>78.0</td>\n",
              "      <td>106.0</td>\n",
              "      <td>75.0</td>\n",
              "      <td>104.0</td>\n",
              "      <td>70.0</td>\n",
              "      <td>104.0</td>\n",
              "    </tr>\n",
              "    <tr>\n",
              "      <th>2</th>\n",
              "      <td>Kristen_Breitweiser_11.jpg</td>\n",
              "      <td>60.0</td>\n",
              "      <td>88.0</td>\n",
              "      <td>60.0</td>\n",
              "      <td>98.0</td>\n",
              "      <td>63.0</td>\n",
              "      <td>109.0</td>\n",
              "      <td>65.0</td>\n",
              "      <td>116.0</td>\n",
              "      <td>68.0</td>\n",
              "      <td>127.0</td>\n",
              "      <td>73.0</td>\n",
              "      <td>135.0</td>\n",
              "      <td>78.0</td>\n",
              "      <td>137.0</td>\n",
              "      <td>83.0</td>\n",
              "      <td>140.0</td>\n",
              "      <td>96.0</td>\n",
              "      <td>143.0</td>\n",
              "      <td>109.0</td>\n",
              "      <td>138.0</td>\n",
              "      <td>119.0</td>\n",
              "      <td>135.0</td>\n",
              "      <td>127.0</td>\n",
              "      <td>130.0</td>\n",
              "      <td>132.0</td>\n",
              "      <td>125.0</td>\n",
              "      <td>135.0</td>\n",
              "      <td>115.0</td>\n",
              "      <td>135.0</td>\n",
              "      <td>105.0</td>\n",
              "      <td>137.0</td>\n",
              "      <td>95.0</td>\n",
              "      <td>137.0</td>\n",
              "      <td>84.0</td>\n",
              "      <td>63.0</td>\n",
              "      <td>75.0</td>\n",
              "      <td>65.0</td>\n",
              "      <td>70.0</td>\n",
              "      <td>71.0</td>\n",
              "      <td>...</td>\n",
              "      <td>78.0</td>\n",
              "      <td>119.0</td>\n",
              "      <td>83.0</td>\n",
              "      <td>114.0</td>\n",
              "      <td>89.0</td>\n",
              "      <td>112.0</td>\n",
              "      <td>91.0</td>\n",
              "      <td>112.0</td>\n",
              "      <td>94.0</td>\n",
              "      <td>112.0</td>\n",
              "      <td>101.0</td>\n",
              "      <td>112.0</td>\n",
              "      <td>109.0</td>\n",
              "      <td>117.0</td>\n",
              "      <td>101.0</td>\n",
              "      <td>120.0</td>\n",
              "      <td>96.0</td>\n",
              "      <td>122.0</td>\n",
              "      <td>94.0</td>\n",
              "      <td>122.0</td>\n",
              "      <td>89.0</td>\n",
              "      <td>122.0</td>\n",
              "      <td>83.0</td>\n",
              "      <td>122.0</td>\n",
              "      <td>81.0</td>\n",
              "      <td>119.0</td>\n",
              "      <td>89.0</td>\n",
              "      <td>117.0</td>\n",
              "      <td>91.0</td>\n",
              "      <td>114.0</td>\n",
              "      <td>96.0</td>\n",
              "      <td>114.0</td>\n",
              "      <td>106.0</td>\n",
              "      <td>117.0</td>\n",
              "      <td>96.0</td>\n",
              "      <td>117.0</td>\n",
              "      <td>94.0</td>\n",
              "      <td>117.0</td>\n",
              "      <td>89.0</td>\n",
              "      <td>117.0</td>\n",
              "    </tr>\n",
              "    <tr>\n",
              "      <th>3</th>\n",
              "      <td>Elizabeth_Dole_31.jpg</td>\n",
              "      <td>41.0</td>\n",
              "      <td>96.0</td>\n",
              "      <td>43.0</td>\n",
              "      <td>104.0</td>\n",
              "      <td>47.0</td>\n",
              "      <td>113.0</td>\n",
              "      <td>49.0</td>\n",
              "      <td>120.0</td>\n",
              "      <td>56.0</td>\n",
              "      <td>128.0</td>\n",
              "      <td>64.0</td>\n",
              "      <td>135.0</td>\n",
              "      <td>73.0</td>\n",
              "      <td>139.0</td>\n",
              "      <td>83.0</td>\n",
              "      <td>144.0</td>\n",
              "      <td>96.0</td>\n",
              "      <td>144.0</td>\n",
              "      <td>105.0</td>\n",
              "      <td>137.0</td>\n",
              "      <td>107.0</td>\n",
              "      <td>133.0</td>\n",
              "      <td>107.0</td>\n",
              "      <td>127.0</td>\n",
              "      <td>109.0</td>\n",
              "      <td>120.0</td>\n",
              "      <td>109.0</td>\n",
              "      <td>112.0</td>\n",
              "      <td>109.0</td>\n",
              "      <td>103.0</td>\n",
              "      <td>109.0</td>\n",
              "      <td>95.0</td>\n",
              "      <td>107.0</td>\n",
              "      <td>86.0</td>\n",
              "      <td>60.0</td>\n",
              "      <td>83.0</td>\n",
              "      <td>66.0</td>\n",
              "      <td>79.0</td>\n",
              "      <td>73.0</td>\n",
              "      <td>...</td>\n",
              "      <td>83.0</td>\n",
              "      <td>122.0</td>\n",
              "      <td>90.0</td>\n",
              "      <td>120.0</td>\n",
              "      <td>94.0</td>\n",
              "      <td>116.0</td>\n",
              "      <td>98.0</td>\n",
              "      <td>116.0</td>\n",
              "      <td>100.0</td>\n",
              "      <td>116.0</td>\n",
              "      <td>103.0</td>\n",
              "      <td>116.0</td>\n",
              "      <td>103.0</td>\n",
              "      <td>118.0</td>\n",
              "      <td>103.0</td>\n",
              "      <td>122.0</td>\n",
              "      <td>100.0</td>\n",
              "      <td>125.0</td>\n",
              "      <td>98.0</td>\n",
              "      <td>127.0</td>\n",
              "      <td>94.0</td>\n",
              "      <td>127.0</td>\n",
              "      <td>90.0</td>\n",
              "      <td>124.0</td>\n",
              "      <td>83.0</td>\n",
              "      <td>122.0</td>\n",
              "      <td>94.0</td>\n",
              "      <td>120.0</td>\n",
              "      <td>96.0</td>\n",
              "      <td>118.0</td>\n",
              "      <td>98.0</td>\n",
              "      <td>118.0</td>\n",
              "      <td>103.0</td>\n",
              "      <td>118.0</td>\n",
              "      <td>98.0</td>\n",
              "      <td>120.0</td>\n",
              "      <td>96.0</td>\n",
              "      <td>122.0</td>\n",
              "      <td>94.0</td>\n",
              "      <td>122.0</td>\n",
              "    </tr>\n",
              "    <tr>\n",
              "      <th>4</th>\n",
              "      <td>Kit_Bond_20.jpg</td>\n",
              "      <td>35.0</td>\n",
              "      <td>67.0</td>\n",
              "      <td>37.0</td>\n",
              "      <td>74.0</td>\n",
              "      <td>41.0</td>\n",
              "      <td>81.0</td>\n",
              "      <td>44.0</td>\n",
              "      <td>87.0</td>\n",
              "      <td>48.0</td>\n",
              "      <td>96.0</td>\n",
              "      <td>51.0</td>\n",
              "      <td>103.0</td>\n",
              "      <td>58.0</td>\n",
              "      <td>108.0</td>\n",
              "      <td>66.0</td>\n",
              "      <td>112.0</td>\n",
              "      <td>76.0</td>\n",
              "      <td>112.0</td>\n",
              "      <td>85.0</td>\n",
              "      <td>107.0</td>\n",
              "      <td>91.0</td>\n",
              "      <td>100.0</td>\n",
              "      <td>94.0</td>\n",
              "      <td>93.0</td>\n",
              "      <td>96.0</td>\n",
              "      <td>84.0</td>\n",
              "      <td>96.0</td>\n",
              "      <td>77.0</td>\n",
              "      <td>96.0</td>\n",
              "      <td>70.0</td>\n",
              "      <td>96.0</td>\n",
              "      <td>64.0</td>\n",
              "      <td>94.0</td>\n",
              "      <td>55.0</td>\n",
              "      <td>42.0</td>\n",
              "      <td>67.0</td>\n",
              "      <td>48.0</td>\n",
              "      <td>65.0</td>\n",
              "      <td>51.0</td>\n",
              "      <td>...</td>\n",
              "      <td>60.0</td>\n",
              "      <td>94.0</td>\n",
              "      <td>64.0</td>\n",
              "      <td>96.0</td>\n",
              "      <td>69.0</td>\n",
              "      <td>94.0</td>\n",
              "      <td>73.0</td>\n",
              "      <td>94.0</td>\n",
              "      <td>74.0</td>\n",
              "      <td>94.0</td>\n",
              "      <td>80.0</td>\n",
              "      <td>94.0</td>\n",
              "      <td>83.0</td>\n",
              "      <td>93.0</td>\n",
              "      <td>80.0</td>\n",
              "      <td>98.0</td>\n",
              "      <td>78.0</td>\n",
              "      <td>101.0</td>\n",
              "      <td>73.0</td>\n",
              "      <td>101.0</td>\n",
              "      <td>69.0</td>\n",
              "      <td>101.0</td>\n",
              "      <td>66.0</td>\n",
              "      <td>99.0</td>\n",
              "      <td>60.0</td>\n",
              "      <td>94.0</td>\n",
              "      <td>69.0</td>\n",
              "      <td>96.0</td>\n",
              "      <td>73.0</td>\n",
              "      <td>96.0</td>\n",
              "      <td>76.0</td>\n",
              "      <td>96.0</td>\n",
              "      <td>83.0</td>\n",
              "      <td>93.0</td>\n",
              "      <td>76.0</td>\n",
              "      <td>98.0</td>\n",
              "      <td>73.0</td>\n",
              "      <td>98.0</td>\n",
              "      <td>69.0</td>\n",
              "      <td>98.0</td>\n",
              "    </tr>\n",
              "  </tbody>\n",
              "</table>\n",
              "<p>5 rows × 137 columns</p>\n",
              "</div>"
            ],
            "text/plain": [
              "                   Unnamed: 0     0     1     2  ...   132    133   134    135\n",
              "0     James_Wolfensohn_00.jpg  25.0  44.0  25.0  ...  39.0   65.0  38.0   65.0\n",
              "1       Valerie_Harper_30.jpg  55.0  62.0  52.0  ...  75.0  104.0  70.0  104.0\n",
              "2  Kristen_Breitweiser_11.jpg  60.0  88.0  60.0  ...  94.0  117.0  89.0  117.0\n",
              "3       Elizabeth_Dole_31.jpg  41.0  96.0  43.0  ...  96.0  122.0  94.0  122.0\n",
              "4             Kit_Bond_20.jpg  35.0  67.0  37.0  ...  73.0   98.0  69.0   98.0\n",
              "\n",
              "[5 rows x 137 columns]"
            ]
          },
          "metadata": {
            "tags": []
          },
          "execution_count": 5
        }
      ]
    },
    {
      "cell_type": "code",
      "metadata": {
        "id": "FU0Qy3fBh8rk",
        "outputId": "794ddbb1-a0e1-4597-a6e9-ff4c862fb8e6",
        "colab": {
          "base_uri": "https://localhost:8080/",
          "height": 1000
        }
      },
      "source": [
        "\n",
        "import torch\n",
        "from models import resnet18_grayscale\n",
        "\n",
        "img_size = 224\n",
        "\n",
        "#\n",
        "resnet18 = resnet18_grayscale()\n",
        "\n",
        "## load the best saved model parameters (by your path name)\n",
        "## You'll need to un-comment the line below and add the correct name for *your* saved model\n",
        "model_dir = 'saved_models/'\n",
        "model_name = 'resnet18_gray_epochs46_bs64_vloss0.00524.pt'\n",
        "\n",
        "resnet18.load_state_dict(torch.load(model_dir+model_name))\n",
        "\n",
        "resnet18.eval()"
      ],
      "execution_count": null,
      "outputs": [
        {
          "output_type": "execute_result",
          "data": {
            "text/plain": [
              "resnet18_grayscale(\n",
              "  (resnet18): ResNet(\n",
              "    (conv1): Conv2d(1, 64, kernel_size=(7, 7), stride=(2, 2), padding=(3, 3), bias=False)\n",
              "    (bn1): BatchNorm2d(64, eps=1e-05, momentum=0.1, affine=True, track_running_stats=True)\n",
              "    (relu): ReLU(inplace=True)\n",
              "    (maxpool): MaxPool2d(kernel_size=3, stride=2, padding=1, dilation=1, ceil_mode=False)\n",
              "    (layer1): Sequential(\n",
              "      (0): BasicBlock(\n",
              "        (conv1): Conv2d(64, 64, kernel_size=(3, 3), stride=(1, 1), padding=(1, 1), bias=False)\n",
              "        (bn1): BatchNorm2d(64, eps=1e-05, momentum=0.1, affine=True, track_running_stats=True)\n",
              "        (relu): ReLU(inplace=True)\n",
              "        (conv2): Conv2d(64, 64, kernel_size=(3, 3), stride=(1, 1), padding=(1, 1), bias=False)\n",
              "        (bn2): BatchNorm2d(64, eps=1e-05, momentum=0.1, affine=True, track_running_stats=True)\n",
              "      )\n",
              "      (1): BasicBlock(\n",
              "        (conv1): Conv2d(64, 64, kernel_size=(3, 3), stride=(1, 1), padding=(1, 1), bias=False)\n",
              "        (bn1): BatchNorm2d(64, eps=1e-05, momentum=0.1, affine=True, track_running_stats=True)\n",
              "        (relu): ReLU(inplace=True)\n",
              "        (conv2): Conv2d(64, 64, kernel_size=(3, 3), stride=(1, 1), padding=(1, 1), bias=False)\n",
              "        (bn2): BatchNorm2d(64, eps=1e-05, momentum=0.1, affine=True, track_running_stats=True)\n",
              "      )\n",
              "    )\n",
              "    (layer2): Sequential(\n",
              "      (0): BasicBlock(\n",
              "        (conv1): Conv2d(64, 128, kernel_size=(3, 3), stride=(2, 2), padding=(1, 1), bias=False)\n",
              "        (bn1): BatchNorm2d(128, eps=1e-05, momentum=0.1, affine=True, track_running_stats=True)\n",
              "        (relu): ReLU(inplace=True)\n",
              "        (conv2): Conv2d(128, 128, kernel_size=(3, 3), stride=(1, 1), padding=(1, 1), bias=False)\n",
              "        (bn2): BatchNorm2d(128, eps=1e-05, momentum=0.1, affine=True, track_running_stats=True)\n",
              "        (downsample): Sequential(\n",
              "          (0): Conv2d(64, 128, kernel_size=(1, 1), stride=(2, 2), bias=False)\n",
              "          (1): BatchNorm2d(128, eps=1e-05, momentum=0.1, affine=True, track_running_stats=True)\n",
              "        )\n",
              "      )\n",
              "      (1): BasicBlock(\n",
              "        (conv1): Conv2d(128, 128, kernel_size=(3, 3), stride=(1, 1), padding=(1, 1), bias=False)\n",
              "        (bn1): BatchNorm2d(128, eps=1e-05, momentum=0.1, affine=True, track_running_stats=True)\n",
              "        (relu): ReLU(inplace=True)\n",
              "        (conv2): Conv2d(128, 128, kernel_size=(3, 3), stride=(1, 1), padding=(1, 1), bias=False)\n",
              "        (bn2): BatchNorm2d(128, eps=1e-05, momentum=0.1, affine=True, track_running_stats=True)\n",
              "      )\n",
              "    )\n",
              "    (layer3): Sequential(\n",
              "      (0): BasicBlock(\n",
              "        (conv1): Conv2d(128, 256, kernel_size=(3, 3), stride=(2, 2), padding=(1, 1), bias=False)\n",
              "        (bn1): BatchNorm2d(256, eps=1e-05, momentum=0.1, affine=True, track_running_stats=True)\n",
              "        (relu): ReLU(inplace=True)\n",
              "        (conv2): Conv2d(256, 256, kernel_size=(3, 3), stride=(1, 1), padding=(1, 1), bias=False)\n",
              "        (bn2): BatchNorm2d(256, eps=1e-05, momentum=0.1, affine=True, track_running_stats=True)\n",
              "        (downsample): Sequential(\n",
              "          (0): Conv2d(128, 256, kernel_size=(1, 1), stride=(2, 2), bias=False)\n",
              "          (1): BatchNorm2d(256, eps=1e-05, momentum=0.1, affine=True, track_running_stats=True)\n",
              "        )\n",
              "      )\n",
              "      (1): BasicBlock(\n",
              "        (conv1): Conv2d(256, 256, kernel_size=(3, 3), stride=(1, 1), padding=(1, 1), bias=False)\n",
              "        (bn1): BatchNorm2d(256, eps=1e-05, momentum=0.1, affine=True, track_running_stats=True)\n",
              "        (relu): ReLU(inplace=True)\n",
              "        (conv2): Conv2d(256, 256, kernel_size=(3, 3), stride=(1, 1), padding=(1, 1), bias=False)\n",
              "        (bn2): BatchNorm2d(256, eps=1e-05, momentum=0.1, affine=True, track_running_stats=True)\n",
              "      )\n",
              "    )\n",
              "    (layer4): Sequential(\n",
              "      (0): BasicBlock(\n",
              "        (conv1): Conv2d(256, 512, kernel_size=(3, 3), stride=(2, 2), padding=(1, 1), bias=False)\n",
              "        (bn1): BatchNorm2d(512, eps=1e-05, momentum=0.1, affine=True, track_running_stats=True)\n",
              "        (relu): ReLU(inplace=True)\n",
              "        (conv2): Conv2d(512, 512, kernel_size=(3, 3), stride=(1, 1), padding=(1, 1), bias=False)\n",
              "        (bn2): BatchNorm2d(512, eps=1e-05, momentum=0.1, affine=True, track_running_stats=True)\n",
              "        (downsample): Sequential(\n",
              "          (0): Conv2d(256, 512, kernel_size=(1, 1), stride=(2, 2), bias=False)\n",
              "          (1): BatchNorm2d(512, eps=1e-05, momentum=0.1, affine=True, track_running_stats=True)\n",
              "        )\n",
              "      )\n",
              "      (1): BasicBlock(\n",
              "        (conv1): Conv2d(512, 512, kernel_size=(3, 3), stride=(1, 1), padding=(1, 1), bias=False)\n",
              "        (bn1): BatchNorm2d(512, eps=1e-05, momentum=0.1, affine=True, track_running_stats=True)\n",
              "        (relu): ReLU(inplace=True)\n",
              "        (conv2): Conv2d(512, 512, kernel_size=(3, 3), stride=(1, 1), padding=(1, 1), bias=False)\n",
              "        (bn2): BatchNorm2d(512, eps=1e-05, momentum=0.1, affine=True, track_running_stats=True)\n",
              "      )\n",
              "    )\n",
              "    (avgpool): AdaptiveAvgPool2d(output_size=(1, 1))\n",
              "    (fc): Linear(in_features=512, out_features=136, bias=True)\n",
              "  )\n",
              ")"
            ]
          },
          "metadata": {
            "tags": []
          },
          "execution_count": 45
        }
      ]
    },
    {
      "cell_type": "code",
      "metadata": {
        "id": "kiA44yEYhCeO"
      },
      "source": [
        "n = 2\n",
        "image_name =test_df.iloc[n, 0]\n",
        "image = mpimg.imread(os.path.join('data/test/', image_name))"
      ],
      "execution_count": null,
      "outputs": []
    },
    {
      "cell_type": "code",
      "metadata": {
        "id": "LVBDMtJWiPXS"
      },
      "source": [
        "image= cv2.cvtColor(image, cv2.COLOR_RGB2GRAY)\n",
        "image=image/255\n",
        "h,w=image.shape"
      ],
      "execution_count": null,
      "outputs": []
    },
    {
      "cell_type": "code",
      "metadata": {
        "id": "nqGmInSUj38C",
        "outputId": "08eef730-1f43-4f13-bc69-84e901198319",
        "colab": {
          "base_uri": "https://localhost:8080/",
          "height": 35
        }
      },
      "source": [
        "h,w"
      ],
      "execution_count": null,
      "outputs": [
        {
          "output_type": "execute_result",
          "data": {
            "text/plain": [
              "(191, 184)"
            ]
          },
          "metadata": {
            "tags": []
          },
          "execution_count": 127
        }
      ]
    },
    {
      "cell_type": "code",
      "metadata": {
        "id": "l6tYT7Lgj47p"
      },
      "source": [
        "image= cv2.resize(image, (img_size, img_size))"
      ],
      "execution_count": null,
      "outputs": []
    },
    {
      "cell_type": "code",
      "metadata": {
        "id": "6xUk8HOLkClO",
        "outputId": "bb18000c-5f74-4903-eec8-3d9892183de2",
        "colab": {
          "base_uri": "https://localhost:8080/",
          "height": 35
        }
      },
      "source": [
        "image.shape"
      ],
      "execution_count": null,
      "outputs": [
        {
          "output_type": "execute_result",
          "data": {
            "text/plain": [
              "(224, 224)"
            ]
          },
          "metadata": {
            "tags": []
          },
          "execution_count": 129
        }
      ]
    },
    {
      "cell_type": "code",
      "metadata": {
        "id": "VfvNCdHckId4"
      },
      "source": [
        "im_copy=np.copy(image)"
      ],
      "execution_count": null,
      "outputs": []
    },
    {
      "cell_type": "code",
      "metadata": {
        "id": "HqtjzL1BkNwi"
      },
      "source": [
        "# if image has no grayscale color channel, add one\n",
        "if(len(image.shape) == 2):\n",
        "            # add that third color dim\n",
        "  image= image.reshape(image.shape[0],image.shape[1], 1)"
      ],
      "execution_count": null,
      "outputs": []
    },
    {
      "cell_type": "code",
      "metadata": {
        "id": "n6vMSSMykcNW",
        "outputId": "26ea5168-263a-485e-e4ce-5948c54c37ac",
        "colab": {
          "base_uri": "https://localhost:8080/",
          "height": 35
        }
      },
      "source": [
        "image.shape"
      ],
      "execution_count": null,
      "outputs": [
        {
          "output_type": "execute_result",
          "data": {
            "text/plain": [
              "(224, 224, 1)"
            ]
          },
          "metadata": {
            "tags": []
          },
          "execution_count": 132
        }
      ]
    },
    {
      "cell_type": "code",
      "metadata": {
        "id": "7-6VhgdpkdoY",
        "outputId": "9165682a-00e2-49fe-801c-3d69a7f11979",
        "colab": {
          "base_uri": "https://localhost:8080/",
          "height": 35
        }
      },
      "source": [
        "# swap color axis because\n",
        "        # numpy image: H x W x C\n",
        "        # torch image: C X H X W\n",
        "image=image.transpose((2, 0, 1))\n",
        "        \n",
        "image= torch.from_numpy(image)\n",
        "image= image.type(torch.FloatTensor)\n",
        "print(image.shape)        \n",
        "image=image.unsqueeze_(0)"
      ],
      "execution_count": null,
      "outputs": [
        {
          "output_type": "stream",
          "text": [
            "torch.Size([1, 224, 224])\n"
          ],
          "name": "stdout"
        }
      ]
    },
    {
      "cell_type": "code",
      "metadata": {
        "id": "cPSoabFOkxBt",
        "outputId": "699a760a-3310-453c-b9d1-798afe506925",
        "colab": {
          "base_uri": "https://localhost:8080/",
          "height": 35
        }
      },
      "source": [
        "image.shape"
      ],
      "execution_count": null,
      "outputs": [
        {
          "output_type": "execute_result",
          "data": {
            "text/plain": [
              "torch.Size([1, 1, 224, 224])"
            ]
          },
          "metadata": {
            "tags": []
          },
          "execution_count": 134
        }
      ]
    },
    {
      "cell_type": "code",
      "metadata": {
        "id": "j9hK-z_YYJ6I",
        "outputId": "cf8748ec-0774-43af-a803-570537a2fd1f",
        "colab": {
          "base_uri": "https://localhost:8080/",
          "height": 35
        }
      },
      "source": [
        "im_copy.shape"
      ],
      "execution_count": null,
      "outputs": [
        {
          "output_type": "execute_result",
          "data": {
            "text/plain": [
              "(224, 224)"
            ]
          },
          "metadata": {
            "tags": []
          },
          "execution_count": 89
        }
      ]
    },
    {
      "cell_type": "code",
      "metadata": {
        "id": "Iru9jQtqlClW",
        "outputId": "5a1f1aa9-6f5f-44d4-9554-20c9ee2585bb",
        "colab": {
          "base_uri": "https://localhost:8080/",
          "height": 35
        }
      },
      "source": [
        "# forward pass to get net output\n",
        "output_pts =resnet18(image)\n",
        "print(output_pts.shape)\n",
        "# reshape to size x 68 x 2 pts\n",
        "output_pts = output_pts.view(68, -1)\n",
        "        \n",
        "        # undo normalization of keypoints\n",
        "output_pts = output_pts.detach().numpy()   \n",
        "output_pts = output_pts*(im_copy.shape[0]/4)+im_copy.shape[0]/2"
      ],
      "execution_count": null,
      "outputs": [
        {
          "output_type": "stream",
          "text": [
            "torch.Size([1, 136])\n"
          ],
          "name": "stdout"
        }
      ]
    },
    {
      "cell_type": "code",
      "metadata": {
        "id": "JMpq1uLVmAUs",
        "outputId": "9ef7a48b-a6c9-42c3-96d3-dd365d12b9f2",
        "colab": {
          "base_uri": "https://localhost:8080/",
          "height": 35
        }
      },
      "source": [
        "output_pts.shape"
      ],
      "execution_count": null,
      "outputs": [
        {
          "output_type": "execute_result",
          "data": {
            "text/plain": [
              "(68, 2)"
            ]
          },
          "metadata": {
            "tags": []
          },
          "execution_count": 91
        }
      ]
    },
    {
      "cell_type": "code",
      "metadata": {
        "id": "p14KiaDMfNxs"
      },
      "source": [
        "output_pts=output_pts*[h/224,w/224]"
      ],
      "execution_count": null,
      "outputs": []
    },
    {
      "cell_type": "code",
      "metadata": {
        "id": "dmRBKOtRnlHz"
      },
      "source": [
        "def overall_r2_score(df=test_df,image_path=\"data/test\"):\n",
        "  mse=[]\n",
        "  r2=[]\n",
        "  for i in range(len(df)):\n",
        "    image_name=df.iloc[i,0]\n",
        "    image=mpimg.imread(os.path.join(image_path,image_name))\n",
        "    image=cv2.cvtColor(image,cv2.COLOR_RGB2GRAY)\n",
        "    image=image/255\n",
        "    h,w=image.shape\n",
        "\n",
        "    image=cv2.resize(image,(img_size,img_size))\n",
        "    \n",
        "    if len(image.shape)==2:\n",
        "      image=image.reshape(image.shape[0],image.shape[1],1)\n",
        "\n",
        "    image=image.transpose((2, 0, 1))\n",
        "    image= torch.from_numpy(image)\n",
        "    image= image.type(torch.FloatTensor)\n",
        "    image=image.unsqueeze_(0)\n",
        "    # forward pass to get net output\n",
        "    output_pts =resnet18(image)\n",
        "   \n",
        "    # reshape to size x 68 x 2 pts\n",
        "    output_pts = output_pts.view(68, -1)\n",
        "        \n",
        "        # undo normalization of keypoints\n",
        "    output_pts = output_pts.detach().numpy()   \n",
        "    output_pts = output_pts*(im_copy.shape[0]/4)+im_copy.shape[0]/2\n",
        "\n",
        "    #undo rescaling\n",
        "    output_pts=output_pts*[h/img_size,w/img_size]\n",
        "\n",
        "    output_pts=output_pts.flatten()\n",
        "    actual_y=df.iloc[i,1:].values\n",
        "\n",
        "    mse.append(mean_squared_error(actual_y,output_pts))\n",
        "    r2.append(r2_score(actual_y,output_pts))\n",
        "  return mse,r2"
      ],
      "execution_count": null,
      "outputs": []
    },
    {
      "cell_type": "code",
      "metadata": {
        "id": "ZIA9lWNztnBF"
      },
      "source": [
        "mse,r2=overall_r2_score(train_df,'data/training')"
      ],
      "execution_count": null,
      "outputs": []
    },
    {
      "cell_type": "code",
      "metadata": {
        "id": "5RVlOVqayp8M"
      },
      "source": [
        "r2"
      ],
      "execution_count": null,
      "outputs": []
    },
    {
      "cell_type": "code",
      "metadata": {
        "id": "X3_N_Dqr3OpV"
      },
      "source": [
        "mse"
      ],
      "execution_count": null,
      "outputs": []
    },
    {
      "cell_type": "code",
      "metadata": {
        "id": "ONTOAsTUbL8u"
      },
      "source": [
        "output_pts=output_pts.reshape(136,-1)"
      ],
      "execution_count": null,
      "outputs": []
    },
    {
      "cell_type": "code",
      "metadata": {
        "id": "PNCuELaRgIoL",
        "outputId": "63b4e455-8bcc-4fb6-c03d-7c77c07cbcf6",
        "colab": {
          "base_uri": "https://localhost:8080/",
          "height": 35
        }
      },
      "source": [
        "output_pts[:10:2].flatten()"
      ],
      "execution_count": null,
      "outputs": [
        {
          "output_type": "execute_result",
          "data": {
            "text/plain": [
              "array([66.36910105, 66.81439713, 69.09764385, 71.31445721, 74.51704356])"
            ]
          },
          "metadata": {
            "tags": []
          },
          "execution_count": 103
        }
      ]
    },
    {
      "cell_type": "code",
      "metadata": {
        "id": "u2E479vYlmgY",
        "outputId": "bca036ea-d47b-4d31-a414-0c76a12b4589",
        "colab": {
          "base_uri": "https://localhost:8080/",
          "height": 35
        }
      },
      "source": [
        "test_df.iloc[2,1:11:2].values"
      ],
      "execution_count": null,
      "outputs": [
        {
          "output_type": "execute_result",
          "data": {
            "text/plain": [
              "array([60.0, 60.0, 63.0, 65.0, 68.0], dtype=object)"
            ]
          },
          "metadata": {
            "tags": []
          },
          "execution_count": 102
        }
      ]
    },
    {
      "cell_type": "code",
      "metadata": {
        "id": "9dfXaNjQgzVr"
      },
      "source": [
        "from sklearn.metrics import mean_squared_error,r2_score"
      ],
      "execution_count": null,
      "outputs": []
    },
    {
      "cell_type": "code",
      "metadata": {
        "id": "-xILRpDLi3G5",
        "outputId": "367b9bf5-e737-4a6a-fd2e-b8197d3a973f",
        "colab": {
          "base_uri": "https://localhost:8080/",
          "height": 35
        }
      },
      "source": [
        "np.sqrt(mean_squared_error(test_df.iloc[2,1:].values,output_pts.flatten()))"
      ],
      "execution_count": null,
      "outputs": [
        {
          "output_type": "execute_result",
          "data": {
            "text/plain": [
              "4.074159498304367"
            ]
          },
          "metadata": {
            "tags": []
          },
          "execution_count": 106
        }
      ]
    },
    {
      "cell_type": "code",
      "metadata": {
        "id": "Zu0ab-4FjBMc",
        "outputId": "2716a5e1-4069-41c3-ecf2-a97409a22b58",
        "colab": {
          "base_uri": "https://localhost:8080/",
          "height": 35
        }
      },
      "source": [
        "r2_score(test_df.iloc[2,1:].values,output_pts.flatten())"
      ],
      "execution_count": null,
      "outputs": [
        {
          "output_type": "execute_result",
          "data": {
            "text/plain": [
              "0.9627886980310508"
            ]
          },
          "metadata": {
            "tags": []
          },
          "execution_count": 108
        }
      ]
    },
    {
      "cell_type": "code",
      "metadata": {
        "id": "mhlGodzPjs6I",
        "outputId": "4a2ef140-bf72-41be-e542-4f3cffd0be5b",
        "colab": {
          "base_uri": "https://localhost:8080/",
          "height": 35
        }
      },
      "source": [
        "r2_score([4,7,3],[4.2,6.7,2.5])"
      ],
      "execution_count": null,
      "outputs": [
        {
          "output_type": "execute_result",
          "data": {
            "text/plain": [
              "0.9561538461538461"
            ]
          },
          "metadata": {
            "tags": []
          },
          "execution_count": 111
        }
      ]
    },
    {
      "cell_type": "code",
      "metadata": {
        "id": "mssDMPb6nN35",
        "outputId": "0e672c2b-1d0a-47b2-f1e9-74d42a1dad1c",
        "colab": {
          "base_uri": "https://localhost:8080/",
          "height": 35
        }
      },
      "source": [
        "r2_score([5,6,7],[4.3,6.2,7.5])"
      ],
      "execution_count": null,
      "outputs": [
        {
          "output_type": "execute_result",
          "data": {
            "text/plain": [
              "0.6099999999999999"
            ]
          },
          "metadata": {
            "tags": []
          },
          "execution_count": 112
        }
      ]
    },
    {
      "cell_type": "code",
      "metadata": {
        "id": "rEiDAKGHnb8k",
        "outputId": "8c0d66c9-a09b-4a84-c2b6-956f0ff9fe15",
        "colab": {
          "base_uri": "https://localhost:8080/",
          "height": 35
        }
      },
      "source": [
        "r2_score([4,7,3,5,6,7],[4.2,6.7,2.5,4.3,6.2,7.5])"
      ],
      "execution_count": null,
      "outputs": [
        {
          "output_type": "execute_result",
          "data": {
            "text/plain": [
              "0.9129999999999999"
            ]
          },
          "metadata": {
            "tags": []
          },
          "execution_count": 113
        }
      ]
    }
  ]
}
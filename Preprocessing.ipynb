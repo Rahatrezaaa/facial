{
  "nbformat": 4,
  "nbformat_minor": 0,
  "metadata": {
    "colab": {
      "name": "Preprocessing.ipynb",
      "provenance": [],
      "collapsed_sections": []
    },
    "kernelspec": {
      "name": "python3",
      "display_name": "Python 3"
    }
  },
  "cells": [
    {
      "cell_type": "code",
      "metadata": {
        "id": "ExQCEmmbMg7y",
        "outputId": "8199474e-7584-4730-cb84-801d734aa9b3",
        "colab": {
          "base_uri": "https://localhost:8080/",
          "height": 120
        }
      },
      "source": [
        "from google.colab import drive\n",
        "drive.mount('/content/drive')"
      ],
      "execution_count": null,
      "outputs": [
        {
          "output_type": "stream",
          "text": [
            "Go to this URL in a browser: https://accounts.google.com/o/oauth2/auth?client_id=947318989803-6bn6qk8qdgf4n4g3pfee6491hc0brc4i.apps.googleusercontent.com&redirect_uri=urn%3aietf%3awg%3aoauth%3a2.0%3aoob&response_type=code&scope=email%20https%3a%2f%2fwww.googleapis.com%2fauth%2fdocs.test%20https%3a%2f%2fwww.googleapis.com%2fauth%2fdrive%20https%3a%2f%2fwww.googleapis.com%2fauth%2fdrive.photos.readonly%20https%3a%2f%2fwww.googleapis.com%2fauth%2fpeopleapi.readonly\n",
            "\n",
            "Enter your authorization code:\n",
            "··········\n",
            "Mounted at /content/drive\n"
          ],
          "name": "stdout"
        }
      ]
    },
    {
      "cell_type": "code",
      "metadata": {
        "id": "KQ2KIJvIMhou",
        "outputId": "d92ca79b-e148-4c1a-87f6-a13ba2ae42bf",
        "colab": {
          "base_uri": "https://localhost:8080/",
          "height": 201
        }
      },
      "source": [
        "import pandas as pd\n",
        "import numpy as np\n",
        "\n",
        "file=\"/content/drive/My Drive/BTP/NGSIM.csv\"\n",
        "us101 = pd.read_csv(file)\n",
        "us101.sort_values(by=[\"Global_Time\"],inplace=True)\n",
        "us101=us101.reset_index(drop=True)\n",
        "\n",
        "full_name = ['front','back','left_front','right_front','left_back','right_back','left','right','front_front']\n",
        "columns=[['F_Vehicle_ID', 'F_Local_X', 'F_Local_Y', 'F_v_Vel', 'F_v_Acc', 'F_v_long', 'F_x_lat', 'F_y_long', 'F_type']\n",
        "        ,['B_Vehicle_ID', 'B_Local_X', 'B_Local_Y', 'B_v_Vel', 'B_v_Acc', 'B_v_long', 'B_x_lat', 'B_y_long', 'B_type']\n",
        "        ,['LF_Vehicle_ID', 'LF_Local_X', 'LF_Local_Y', 'LF_v_Vel', 'LF_v_Acc', 'LF_v_long', 'LF_x_lat', 'LF_y_long', 'LF_type']\n",
        "        ,['RF_Vehicle_ID', 'RF_Local_X', 'RF_Local_Y', 'RF_v_Vel', 'RF_v_Acc', 'RF_v_long', 'RF_x_lat', 'RF_y_long', 'RF_type']\n",
        "        ,['LB_Vehicle_ID', 'LB_Local_X', 'LB_Local_Y', 'LB_v_Vel', 'LB_v_Acc', 'LB_v_long', 'LB_x_lat', 'LB_y_long', 'LB_type']\n",
        "        ,['RB_Vehicle_ID', 'RB_Local_X', 'RB_Local_Y', 'RB_v_Vel', 'RB_v_Acc', 'RB_v_long', 'RB_x_lat', 'RB_y_long', 'RB_type']\n",
        "        ,['L_Vehicle_ID', 'L_Local_X', 'L_Local_Y', 'L_v_Vel', 'L_v_Acc', 'L_v_long', 'L_x_lat', 'L_y_long', 'L_type']\n",
        "        ,['R_Vehicle_ID', 'R_Local_X', 'R_Local_Y', 'R_v_Vel', 'R_v_Acc', 'R_v_long', 'R_x_lat', 'R_y_long', 'R_type']\n",
        "        ,['FF_Vehicle_ID', 'FF_Local_X', 'FF_Local_Y', 'FF_v_Vel', 'FF_v_Acc', 'FF_v_long', 'FF_x_lat', 'FF_y_long', 'FF_type']]\n",
        "\n",
        "for temp_col in columns:\n",
        "    us101[temp_col] = pd.DataFrame([[pd.np.NaN]*9], index=us101.index)\n",
        "\n",
        "# print(us101.columns)\n",
        "\n",
        "calc_distances = {}\n",
        "\n",
        "def calc_distance(idx1, idx2):\n",
        "    # print(idx1, idx2)\n",
        "    row1 = us101.loc[idx1]\n",
        "    row2 = us101.loc[idx2]\n",
        "    try:\n",
        "        distance = calc_distances[(idx1,idx2)]\n",
        "    except:\n",
        "        distance = (row1.Local_X-row2.Local_X)**2+(row1.Local_Y-row2.Local_Y)**2\n",
        "    return distance\n",
        "\n",
        "def append_front_back(index,name,nearest_dict,vehicle_row_dict):\n",
        "    if(index<0):\n",
        "        return\n",
        "    front=us101.loc[index].Preceding\n",
        "    back=us101.loc[index].Following\n",
        "    if(front != 0):\n",
        "        nearest_dict[name[0]]=vehicle_row_dict.get(front,-1)\n",
        "    if(back != 0):\n",
        "        nearest_dict[name[1]]=vehicle_row_dict.get(back,-1)\n",
        "\n",
        "def find_nearest(lanes_dict, vehicle_row_dict):\n",
        "    # print(vehicle_row_dict)\n",
        "    for lane in [1,2,3,4,5]:\n",
        "        for vehicle in lanes_dict[lane]:\n",
        "            nearest_dict={'left_back':-2,'left_front':-2,'right_back':-2,'right_front':-2, 'front':-2,\n",
        "                            'back':-2, 'right':-2, 'left':-2,'front_front':-2}\n",
        "            try:\n",
        "                min_dist = 90000\n",
        "                for k in lanes_dict[lane-1]:\n",
        "                    dist = calc_distance(vehicle,k)\n",
        "                    if dist<min_dist:\n",
        "                        min_dist = dist\n",
        "                        nearest_dict['left']=k\n",
        "            except:\n",
        "                nearest_dict['left']=-1\n",
        "\n",
        "            try:\n",
        "                min_dist = 90000\n",
        "                for k in lanes_dict[lane+1]:\n",
        "                    dist = calc_distance(vehicle,k)\n",
        "                    if dist<min_dist:\n",
        "                        min_dist = dist\n",
        "                        nearest_dict['right']=k\n",
        "            except:\n",
        "                nearest_dict['right']=-1\n",
        "\n",
        "\n",
        "            #getting front and back\n",
        "            append_front_back(vehicle,['front','back'],nearest_dict,vehicle_row_dict)\n",
        "            #getting left front and back\n",
        "            append_front_back(nearest_dict['left'],['left_front','left_back'],nearest_dict,vehicle_row_dict)\n",
        "            #getting right front and back\n",
        "            append_front_back(nearest_dict['right'],['right_front','right_back'],nearest_dict,vehicle_row_dict)\n",
        "            #getting front front\n",
        "            append_front_back(nearest_dict['front'],['front_front','front_back'],nearest_dict,vehicle_row_dict)\n",
        "\n",
        "\n",
        "            vid_t,loc_x_t,loc_y_t,v_t,a_t=us101.loc[vehicle,['Vehicle_ID','Local_X','Local_Y','v_Vel','v_Acc']].values\n",
        "\n",
        "            for i in range(len(full_name)):\n",
        "                \n",
        "                name=full_name[i]\n",
        "\n",
        "                if(nearest_dict[name]>0):\n",
        "                    vid_p,loc_x_p,loc_y_p,v_p,a_p=us101.loc[nearest_dict[name],['Vehicle_ID','Local_X','Local_Y','v_Vel','v_Acc']].values\n",
        "                    v_long=v_t-v_p\n",
        "                    x_lat=loc_x_p-loc_x_t\n",
        "                    x_long=loc_y_p-loc_y_t\n",
        "                    ttc=x_long/(v_long+0.000001)\n",
        "\n",
        "                    temp_col=columns[i]\n",
        "                    df_values=us101.loc[nearest_dict[name],['Vehicle_ID','Local_X','Local_Y','v_Vel','v_Acc']].values.tolist()\n",
        "                    cal_values=[v_long,x_lat,x_long,ttc]\n",
        "\n",
        "                    #concatenate list and assign to values\n",
        "                    us101.loc[vehicle,temp_col] = df_values + cal_values \n",
        "\n",
        "    return\n",
        "\n",
        "\n",
        "time = us101['Global_Time'][0]\n",
        "lanes_dict = {1:[],2:[],3:[],4:[],5:[]}\n",
        "vehicle_row_dict = {}\n",
        "for index in range(len(us101)):\n",
        "    row=us101.loc[index,:]\n",
        "    \n",
        "    if(index%5000==0):\n",
        "        print(\"Total rows done : {} time : {}\".format(index, current_time))\n",
        "        \n",
        "\n",
        "    if row.Global_Time == time:\n",
        "        vehicle_row_dict[row.Vehicle_ID]=index\n",
        "        try:\n",
        "            lanes_dict[row.Lane_ID].append(index)\n",
        "        except:\n",
        "            continue\n",
        "    else:\n",
        "        find_nearest(lanes_dict, vehicle_row_dict)\n",
        "        lanes_dict = {1:[],2:[],3:[],4:[],5:[]}\n",
        "        vehicle_row_dict = {}\n",
        "        time=row.Global_Time\n",
        "        vehicle_row_dict[row.Vehicle_ID]=index\n",
        "        try:\n",
        "            lanes_dict[row.Lane_ID].append(index)\n",
        "        except:\n",
        "            continue\n",
        "\n",
        "#print(us101.loc[:1000].to_csv())\n",
        "us101.to_csv(\"/content/drive/My Drive/BTP/NGSIM_processed.csv\",index=None)\n"
      ],
      "execution_count": null,
      "outputs": [
        {
          "output_type": "stream",
          "text": [
            "Total rows done : 0 time : 10:03:28\n",
            "Total rows done : 5000 time : 10:10:35\n",
            "Total rows done : 10000 time : 10:18:06\n",
            "Total rows done : 15000 time : 10:25:20\n",
            "Total rows done : 20000 time : 10:32:50\n",
            "Total rows done : 25000 time : 10:40:07\n",
            "Total rows done : 30000 time : 10:47:39\n",
            "Total rows done : 35000 time : 10:55:04\n",
            "Total rows done : 40000 time : 11:02:22\n",
            "Total rows done : 45000 time : 11:09:39\n",
            "Total rows done : 50000 time : 11:16:47\n"
          ],
          "name": "stdout"
        }
      ]
    },
    {
      "cell_type": "code",
      "metadata": {
        "id": "viFm38cYNfq0"
      },
      "source": [
        ""
      ],
      "execution_count": null,
      "outputs": []
    }
  ]
}